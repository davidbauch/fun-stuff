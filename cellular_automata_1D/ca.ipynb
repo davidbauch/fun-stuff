{
 "cells": [
  {
   "cell_type": "code",
   "execution_count": 1,
   "metadata": {},
   "outputs": [],
   "source": [
    "import numpy as np\n",
    "import matplotlib.pyplot as plt\n",
    "from IPython.display import clear_output\n",
    "import time"
   ]
  },
  {
   "cell_type": "markdown",
   "metadata": {},
   "source": [
    "# Generate Different Rulesets of Wolfram's Cellular Automata"
   ]
  },
  {
   "cell_type": "code",
   "execution_count": 18,
   "metadata": {},
   "outputs": [
    {
     "data": {
      "image/png": "[encoded data removed]",
      "text/plain": [
       "<Figure size 640x480 with 1 Axes>"
      ]
     },
     "metadata": {},
     "output_type": "display_data"
    }
   ],
   "source": [
    "N = 50\n",
    "\n",
    "# Initialize Grid with zeros\n",
    "grid = np.zeros((N, N))\n",
    "\n",
    "\"\"\"\n",
    "Cellular Automata Ruleset.\n",
    "In 1D, there are 2^3 = 8 possible binary states for a cell's neighborhood,\t\n",
    "and 2^8 = 256 possible rulesets.\n",
    "We can represent a ruleset as an 8-bit binary number, where each bit\n",
    "determines the state of a cell in the next generation.\n",
    "For example, the ruleset 30 is represented by the binary number 00011110.\n",
    "The leftmost bit corresponds to the state of the cell 111, and the rightmost\n",
    "bit corresponds to the state of the cell 000.\n",
    "The bit value determines the state of the cell in the next generation.\n",
    "For example, if the bit value is 1, then the cell will be alive in the next\n",
    "generation, and if the bit value is 0, then the cell will be dead.\n",
    "\n",
    "Here are some interesting rulesets:\n",
    "- Rule 182 - Sirpinski triangle\n",
    "- Rule 18,218 - Inverted Sirpinski triangle\n",
    "- Rule 30 - Chaos\n",
    "- Rule 110 - Turing complete\n",
    "- Rule 57 - Mirrored Triangle\n",
    "\"\"\"\n",
    "rule = 18\n",
    "# Convert to 8-bit binary representation\n",
    "rule_binary = np.binary_repr(rule, 8)\n",
    "\n",
    "def update(grid, row):\n",
    "    # Alias the current row\n",
    "    current_row = grid[row]\n",
    "    # Initialize the new row with zeros\n",
    "    new_row = np.zeros(N)\n",
    "    for i in range(N):\n",
    "        # Get the neighborhood of the current cell, periodic boundary conditions\n",
    "        left = int(current_row[(i-1) % N])\n",
    "        center = int(current_row[i])\n",
    "        right = int(current_row[(i+1) % N])\n",
    "        # Get the value of the new cell based on the neighborhood\n",
    "        # Determine the position of the bit in the ruleset based on the neighborhood\n",
    "        new_row[i] = int(rule_binary[7 - (left * 4 + center * 2 + right)])\n",
    "    # Update the grid\n",
    "    grid[(row+1) % N] = new_row\n",
    "\n",
    "# Initial Condition is either a single cell, or a random row\n",
    "grid[0, N//2] = 1  # Single Cell\n",
    "# grid[0,:] = np.random.randint(0, 2, N)  # Random Row\n",
    "\n",
    "for i in range(N-1):\n",
    "    update(grid, i)\n",
    "    plt.axis('off')\n",
    "    plt.tight_layout()\n",
    "    plt.imshow(grid, cmap='turbo', vmin=0, vmax=1)\n",
    "    plt.show()\n",
    "    time.sleep(0.01)  # pause for 1 second\n",
    "    clear_output(wait=True)  # clear the output for the next plot"
   ]
  },
  {
   "cell_type": "markdown",
   "metadata": {},
   "source": [
    "# Generate a Completely Random CA using a random rule and random initial conditions"
   ]
  },
  {
   "cell_type": "code",
   "execution_count": 22,
   "metadata": {},
   "outputs": [
    {
     "name": "stdout",
     "output_type": "stream",
     "text": [
      "Rule 99: 01100011\n",
      "Initial Condition:\n",
      "  Single Cell\n",
      "    Random Cell\n"
     ]
    },
    {
     "data": {
      "text/plain": [
       "<matplotlib.image.AxesImage at 0x18cded54650>"
      ]
     },
     "execution_count": 22,
     "metadata": {},
     "output_type": "execute_result"
    },
    {
     "data": {
      "image/png": "[encoded data removed]",
      "text/plain": [
       "<Figure size 640x480 with 1 Axes>"
      ]
     },
     "metadata": {},
     "output_type": "display_data"
    }
   ],
   "source": [
    "# Grid Size\n",
    "N = 300\n",
    "# Chose a random rule\n",
    "rule = np.random.randint(0, 256)\n",
    "# Convert to 8-bit binary representation\n",
    "rule_binary = np.binary_repr(rule, 8)\n",
    "print(f\"Rule {rule}: {rule_binary}\")\n",
    "\n",
    "# Reset Grid\n",
    "grid = np.zeros((N, N))\n",
    "\n",
    "# Chose a random initial condition. Do a 50:50 random choice for initializing a single cell or a random row.\n",
    "print(\"Initial Condition:\")\n",
    "if np.random.rand() > 0.5:\n",
    "    print(\"  Single Cell\")\n",
    "    # Single Cell\n",
    "    if np.random.rand() > 0.5:\n",
    "        print(\"    Center Cell\")\n",
    "        # Center Cell\n",
    "        grid[0, N//2] = 1\n",
    "    else:\n",
    "        print(\"    Random Cell\")\n",
    "        # Random Cell\n",
    "        cell = np.random.randint(0, N)\n",
    "        grid[0, cell] = 1\n",
    "else:\n",
    "    print(\"  Random Row\")\n",
    "    # Random Row\n",
    "    grid[0,:] = np.random.randint(0, 2, N)\n",
    "\n",
    "# Run the simulation\n",
    "for i in range(N-1):\n",
    "    update(grid, i)\n",
    "\n",
    "# Plot the result\n",
    "plt.axis('off')\n",
    "plt.tight_layout()\n",
    "plt.imshow(grid, cmap='grey', vmin=0, vmax=1)\n"
   ]
  }
 ],
 "metadata": {
  "kernelspec": {
   "display_name": "Python 3",
   "language": "python",
   "name": "python3"
  },
  "language_info": {
   "codemirror_mode": {
    "name": "ipython",
    "version": 3
   },
   "file_extension": ".py",
   "mimetype": "text/x-python",
   "name": "python",
   "nbconvert_exporter": "python",
   "pygments_lexer": "ipython3",
   "version": "3.12.1"
  }
 },
 "nbformat": 4,
 "nbformat_minor": 2
}
